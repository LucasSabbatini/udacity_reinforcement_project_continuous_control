{
 "cells": [
  {
   "cell_type": "markdown",
   "metadata": {},
   "source": [
    "# Continuous Control\n",
    "\n",
    "---\n",
    "\n",
    "In this notebook, you will learn how to use the Unity ML-Agents environment for the second project of the [Deep Reinforcement Learning Nanodegree](https://www.udacity.com/course/deep-reinforcement-learning-nanodegree--nd893) program.\n",
    "\n",
    "### 1. Start the Environment\n",
    "\n",
    "We begin by importing the necessary packages.  If the code cell below returns an error, please revisit the project instructions to double-check that you have installed [Unity ML-Agents](https://github.com/Unity-Technologies/ml-agents/blob/master/docs/Installation.md) and [NumPy](http://www.numpy.org/)."
   ]
  },
  {
   "cell_type": "code",
   "execution_count": 1,
   "metadata": {},
   "outputs": [],
   "source": [
    "from unityagents import UnityEnvironment\n",
    "import numpy as np"
   ]
  },
  {
   "cell_type": "markdown",
   "metadata": {},
   "source": [
    "Next, we will start the environment!  **_Before running the code cell below_**, change the `file_name` parameter to match the location of the Unity environment that you downloaded.\n",
    "\n",
    "- **Mac**: `\"path/to/Reacher.app\"`\n",
    "- **Windows** (x86): `\"path/to/Reacher_Windows_x86/Reacher.exe\"`\n",
    "- **Windows** (x86_64): `\"path/to/Reacher_Windows_x86_64/Reacher.exe\"`\n",
    "- **Linux** (x86): `\"path/to/Reacher_Linux/Reacher.x86\"`\n",
    "- **Linux** (x86_64): `\"path/to/Reacher_Linux/Reacher.x86_64\"`\n",
    "- **Linux** (x86, headless): `\"path/to/Reacher_Linux_NoVis/Reacher.x86\"`\n",
    "- **Linux** (x86_64, headless): `\"path/to/Reacher_Linux_NoVis/Reacher.x86_64\"`\n",
    "\n",
    "For instance, if you are using a Mac, then you downloaded `Reacher.app`.  If this file is in the same folder as the notebook, then the line below should appear as follows:\n",
    "```\n",
    "env = UnityEnvironment(file_name=\"Reacher.app\")\n",
    "```"
   ]
  },
  {
   "cell_type": "code",
   "execution_count": 2,
   "metadata": {},
   "outputs": [
    {
     "name": "stderr",
     "output_type": "stream",
     "text": [
      "INFO:unityagents:\n",
      "'Academy' started successfully!\n",
      "Unity Academy name: Academy\n",
      "        Number of Brains: 1\n",
      "        Number of External Brains : 1\n",
      "        Lesson number : 0\n",
      "        Reset Parameters :\n",
      "\t\tgoal_speed -> 1.0\n",
      "\t\tgoal_size -> 5.0\n",
      "Unity brain name: ReacherBrain\n",
      "        Number of Visual Observations (per agent): 0\n",
      "        Vector Observation space type: continuous\n",
      "        Vector Observation space size (per agent): 33\n",
      "        Number of stacked Vector Observation: 1\n",
      "        Vector Action space type: continuous\n",
      "        Vector Action space size (per agent): 4\n",
      "        Vector Action descriptions: , , , \n"
     ]
    }
   ],
   "source": [
    "env = UnityEnvironment(file_name='../unity_ml_envs/Reacher_Windows_x86_64/Reacher')"
   ]
  },
  {
   "cell_type": "markdown",
   "metadata": {},
   "source": [
    "Environments contain **_brains_** which are responsible for deciding the actions of their associated agents. Here we check for the first brain available, and set it as the default brain we will be controlling from Python."
   ]
  },
  {
   "cell_type": "code",
   "execution_count": 3,
   "metadata": {},
   "outputs": [],
   "source": [
    "# get the default brain\n",
    "brain_name = env.brain_names[0]\n",
    "brain = env.brains[brain_name]"
   ]
  },
  {
   "cell_type": "markdown",
   "metadata": {},
   "source": [
    "### 2. Examine the State and Action Spaces\n",
    "\n",
    "In this environment, a double-jointed arm can move to target locations. A reward of `+0.1` is provided for each step that the agent's hand is in the goal location. Thus, the goal of your agent is to maintain its position at the target location for as many time steps as possible.\n",
    "\n",
    "The observation space consists of `33` variables corresponding to position, rotation, velocity, and angular velocities of the arm.  Each action is a vector with four numbers, corresponding to torque applicable to two joints.  Every entry in the action vector must be a number between `-1` and `1`.\n",
    "\n",
    "Run the code cell below to print some information about the environment."
   ]
  },
  {
   "cell_type": "code",
   "execution_count": 4,
   "metadata": {},
   "outputs": [
    {
     "name": "stdout",
     "output_type": "stream",
     "text": [
      "Number of agents: 1\n",
      "Size of each action: 4\n",
      "There are 1 agents. Each observes a state with length: 33\n",
      "The state for the first agent looks like: [ 0.00000000e+00 -4.00000000e+00  0.00000000e+00  1.00000000e+00\n",
      " -0.00000000e+00 -0.00000000e+00 -4.37113883e-08  0.00000000e+00\n",
      "  0.00000000e+00  0.00000000e+00  0.00000000e+00  0.00000000e+00\n",
      "  0.00000000e+00  0.00000000e+00 -1.00000000e+01  0.00000000e+00\n",
      "  1.00000000e+00 -0.00000000e+00 -0.00000000e+00 -4.37113883e-08\n",
      "  0.00000000e+00  0.00000000e+00  0.00000000e+00  0.00000000e+00\n",
      "  0.00000000e+00  0.00000000e+00  5.75471878e+00 -1.00000000e+00\n",
      "  5.55726671e+00  0.00000000e+00  1.00000000e+00  0.00000000e+00\n",
      " -1.68164849e-01]\n",
      "Size of state: (33,)\n"
     ]
    }
   ],
   "source": [
    "# reset the environment\n",
    "env_info = env.reset(train_mode=True)[brain_name]\n",
    "\n",
    "# number of agents\n",
    "num_agents = len(env_info.agents)\n",
    "print('Number of agents:', num_agents)\n",
    "\n",
    "# size of each action\n",
    "action_size = brain.vector_action_space_size\n",
    "print('Size of each action:', action_size)\n",
    "\n",
    "# examine the state space \n",
    "states = env_info.vector_observations\n",
    "state_size = states.shape[1]\n",
    "print('There are {} agents. Each observes a state with length: {}'.format(states.shape[0], state_size))\n",
    "print('The state for the first agent looks like:', states[0])\n",
    "print(f\"Size of state: {states[0].shape}\")"
   ]
  },
  {
   "cell_type": "markdown",
   "metadata": {},
   "source": [
    "### 3. Take Random Actions in the Environment\n",
    "\n",
    "In the next code cell, you will learn how to use the Python API to control the agent and receive feedback from the environment.\n",
    "\n",
    "Once this cell is executed, you will watch the agent's performance, if it selects an action at random with each time step.  A window should pop up that allows you to observe the agent, as it moves through the environment.  \n",
    "\n",
    "Of course, as part of the project, you'll have to change the code so that the agent is able to use its experience to gradually choose better actions when interacting with the environment!"
   ]
  },
  {
   "cell_type": "code",
   "execution_count": 5,
   "metadata": {},
   "outputs": [
    {
     "name": "stdout",
     "output_type": "stream",
     "text": [
      "Total score (averaged over agents) this episode: 0.0\n"
     ]
    }
   ],
   "source": [
    "env_info = env.reset(train_mode=False)[brain_name]     # reset the environment    \n",
    "states = env_info.vector_observations                  # get the current state (for each agent)\n",
    "scores = np.zeros(num_agents)                          # initialize the score (for each agent)\n",
    "for i in range(200):\n",
    "    actions = np.random.randn(num_agents, action_size) # select an action (for each agent)\n",
    "    actions = np.clip(actions, -1, 1)                  # all actions between -1 and 1\n",
    "    env_info = env.step(actions)[brain_name]           # send all actions to tne environment\n",
    "    next_states = env_info.vector_observations         # get next state (for each agent)\n",
    "    rewards = env_info.rewards                         # get reward (for each agent)\n",
    "    dones = env_info.local_done                        # see if episode finished\n",
    "    scores += env_info.rewards                         # update the score (for each agent)\n",
    "    states = next_states                               # roll over states to next time step\n",
    "    if np.any(dones):                                  # exit loop if episode finished\n",
    "        break\n",
    "print('Total score (averaged over agents) this episode: {}'.format(np.mean(scores)))"
   ]
  },
  {
   "cell_type": "markdown",
   "metadata": {},
   "source": [
    "When finished, you can close the environment."
   ]
  },
  {
   "cell_type": "code",
   "execution_count": 6,
   "metadata": {},
   "outputs": [],
   "source": [
    "env.close()"
   ]
  },
  {
   "cell_type": "markdown",
   "metadata": {},
   "source": [
    "### 4. It's Your Turn!\n",
    "\n",
    "Now it's your turn to train your own agent to solve the environment!  When training the environment, set `train_mode=True`, so that the line for resetting the environment looks like the following:\n",
    "```python\n",
    "env_info = env.reset(train_mode=True)[brain_name]\n",
    "```"
   ]
  },
  {
   "cell_type": "markdown",
   "metadata": {},
   "source": [
    "## Solving the single agent environment with Proxmial Policy Gradient Algorithm (PPO)\n",
    "\n",
    "Observations:\n",
    "- PPO is an episodic algoithm, in that it collects full trajectories and then trains on them\n",
    "- The loss function (return maximization) is calculated on true rewards (gathered with rollouts), so it has low bias and high variance\n",
    "\n",
    "\n",
    "### Policy"
   ]
  },
  {
   "cell_type": "code",
   "execution_count": 1,
   "metadata": {},
   "outputs": [
    {
     "name": "stdout",
     "output_type": "stream",
     "text": [
      "cpu\n"
     ]
    }
   ],
   "source": [
    "import torch\n",
    "device = torch.device(\"cuda:0\" if torch.cuda.is_available() else \"cpu\")\n",
    "print(device)"
   ]
  },
  {
   "cell_type": "code",
   "execution_count": 36,
   "metadata": {},
   "outputs": [],
   "source": [
    "import torch\n",
    "import torch.nn as nn\n",
    "import torch.nn.functional as F\n",
    "\n",
    "# TODO: ADAPT TO MEET REACHER OBSERVATIONAL AND ACTION STATES\n",
    "class Policy(nn.Module):\n",
    "    def __init__(self, state_dim=(33), action_size=4):\n",
    "        super(Policy, self).__init__()\n",
    "        self.fc1 = nn.Linear(state_dim, 64)\n",
    "        self.fc2 = nn.Linear(64, 64)\n",
    "        self.fc3 = nn.Linear(64, action_size)\n",
    "        self.out = nn.Tanh() # Tanh already squeezes output to [-1, 1]\n",
    "\n",
    "    def forward(self, state):\n",
    "        x = F.relu(self.fc1(state))\n",
    "        x = F.relu(self.fc2(x))\n",
    "        x = self.out(self.fc3(x))\n",
    "        return x        \n",
    "        \n",
    "# run your own policy!\n",
    "policy=Policy().to(device)"
   ]
  },
  {
   "cell_type": "markdown",
   "metadata": {},
   "source": [
    "### Loss function (surrogate expectation)\n",
    "# TODO"
   ]
  },
  {
   "cell_type": "code",
   "execution_count": 56,
   "metadata": {},
   "outputs": [],
   "source": [
    "import numpy as np \n",
    "from pprint import pprint\n",
    "\n",
    "def debug(item, name, print_e=False):\n",
    "    print(\"New item: {}\".format(name))\n",
    "    print(f\"Type: {type(item)}\")\n",
    "    if print_e:\n",
    "        pprint(item)\n",
    "    try:\n",
    "        print(f\"Length: {len(item)}\")\n",
    "        pprint(f\"First element: {item[0]}\")\n",
    "        pprint(f\"Last element: {item[-1]}\")\n",
    "        try:\n",
    "            print(f\"Shape: {item.shape}\")\n",
    "        except:\n",
    "\n",
    "            pass\n",
    "        try:\n",
    "            pprint(\"First element shape: {}\".format(item[0].shape))\n",
    "        except Exception as e:\n",
    "            pprint(e)\n",
    "    except:\n",
    "        print(\"Object has no length\")\n",
    "    print(\"\")\n",
    "    \n",
    "# def clipped_surrogate_lucas(policy, states, actions, rewards, discount=0.995, epsilon=0.2, beta=0.01):\n",
    "#     \"\"\"THIS IS THE OBJECTIVE FUNCTION FOR THE PPO ALGORITHM\n",
    "\n",
    "def clipped_surrogate_lucas(policy, states, actions, log_probs_old, advantages, returns, discount=0.995, epsilon=0.2, beta=0.01, gamma=0.99, tau=0.95):\n",
    "    \"\"\"\n",
    "    Args:\n",
    "        policy (_type_): _description_\n",
    "        states (_type_): _description_\n",
    "        actions (_type_): _description_\n",
    "        rewards (_type_): _description_\n",
    "        discount (float, optional): _description_. Defaults to 0.995.\n",
    "        epsilon (float, optional): _description_. Defaults to 0.2.\n",
    "        beta (float, optional): _description_. Defaults to 0.01.\n",
    "\n",
    "    Returns:\n",
    "        _type_: _description_\n",
    "        \n",
    "    TODO: ADAPT TO MEET REACHER OBSERVATIONAL AND ACTION STATES\n",
    "    \"\"\"\n",
    "\n",
    "    dist, values = policy(states)\n",
    "    \n",
    "    log_probs = dist.log_prob(actions)\n",
    "    log_probs = torch.sum(log_probs, dim=1, keepdim=True)\n",
    "    entropy = dist.entropy().mean()\n",
    "    \n",
    "    # r(θ) =  π(a|s) / π_old(a|s)\n",
    "    ratio = (log_probs - log_probs_old).exp()\n",
    "    \n",
    "    # Surrogate Objctive : L_CPI(θ) = r(θ) * A\n",
    "    obj = ratio * advantages\n",
    "    \n",
    "    # clip ( r(θ), 1-Ɛ, 1+Ɛ )*A\n",
    "    obj_clipped = ratio.clamp(1.0 - epsilon, 1.0 + epsilon) * advantages\n",
    "    \n",
    "    # L_CLIP(θ) = E { min[ r(θ)A, clip ( r(θ), 1-Ɛ, 1+Ɛ )*A ] - β * KL }\n",
    "    policy_loss = -torch.min(obj, obj_clipped).mean(0) - beta * entropy.mean()\n",
    "    \n",
    "    # L_VF(θ) = ( V(s) - V_t )^2\n",
    "    value_loss = 0.5 * (returns - values).pow(2).mean()\n",
    "    \n",
    "    return policy_loss, value_loss"
   ]
  },
  {
   "cell_type": "markdown",
   "metadata": {},
   "source": [
    "## Training\n",
    "\n",
    "### Collect trajectory"
   ]
  },
  {
   "cell_type": "code",
   "execution_count": 34,
   "metadata": {},
   "outputs": [],
   "source": [
    "import copy\n",
    "\n",
    "def collect_single_trajectory(env, policy, tmax=500):\n",
    "    \"\"\"NOTE: SINGLE TRAJECTORY FOR ONE AGENT ONLY\n",
    "    \"\"\"\n",
    "    # get the default brain\n",
    "    brain_name = env.brain_names[0]\n",
    "    brain = env.brains[brain_name]\n",
    "    \n",
    "    env_info = env.reset(train_mode=True)[brain_name]     # reset the environment    \n",
    "    current_state = env_info.vector_observations          # getting only for one agent\n",
    "    # print(f\"Current state: {current_state}\")\n",
    "    \n",
    "    action_size = brain.vector_action_space_size\n",
    "    state_size = current_state.shape\n",
    "    print(f\"Action size: {action_size}. State size: {state_size}\")\n",
    "    \n",
    "    # number of agents\n",
    "    num_agents = len(env_info.agents)\n",
    "    print('Number of agents: ', num_agents)\n",
    "    assert num_agents==1, \"There should only be one agent, for now.\"\n",
    "    \n",
    "    scores = np.zeros(num_agents)                          # initialize the score (for each agent)\n",
    "    state_list = []\n",
    "    actions_list = []\n",
    "    log_probs_list = []\n",
    "    values_list = []\n",
    "    reward_list = []\n",
    "    dones_list = []\n",
    "    \n",
    "    for i in range(tmax):\n",
    "        current_state = torch.tensor(current_state, dtype=torch.float, device=device)\n",
    "        action, log_probs, values = policy.act(current_state).squeeze().cpu().detach().numpy()[:, np.newaxis]\n",
    "                \n",
    "        env_info = env.step(action)[brain_name]           # send all actions to tne environment\n",
    "        next_state = env_info.vector_observations         # get next state (for each agent)\n",
    "        reward = env_info.rewards                         # get reward (for each agent)\n",
    "        dones = env_info.local_done                        # see if episode finished\n",
    "        scores += env_info.rewards                         # update the score (for each agent)\n",
    "        \n",
    "        \n",
    "        actions_list.append(action.detach())\n",
    "        log_probs_list.append(log_probs.detach())\n",
    "        values_list.append(values.detach())\n",
    "        state_list.append(current_state.detach())\n",
    "        reward_list.append(reward.detach())\n",
    "        dones_list.append(dones.detach())\n",
    "        \n",
    "        current_state = next_state\n",
    "        \n",
    "        if np.any(dones):                                  # exit loop if episode finished\n",
    "            break\n",
    "    print('Total score (averaged over agents) this episode: {}'.format(np.mean(scores)))\n",
    "    returns = policy(states)[-1]\n",
    "    \n",
    "    return actions_list, values_list, log_probs_list, state_list, reward_list, dones_list, returns"
   ]
  },
  {
   "cell_type": "code",
   "execution_count": 54,
   "metadata": {},
   "outputs": [],
   "source": [
    "from src.trainer import calculate_advantages\n",
    "\n",
    "def calculate_advantages(rollout, returns, num_agents, gamma=0.99, tau=0.95):\n",
    "    \"\"\" Given trajectory, compute advantage estimates at each time steps\"\"\"\n",
    "    processed_rollout = [None] * (len(rollout) - 1)\n",
    "    advantages = torch.Tensor(np.zeros((num_agents, 1)))\n",
    "\n",
    "    for i in reversed(range(len(rollout) - 1)):\n",
    "        states, value, actions, log_probs, rewards, dones = rollout[i]\n",
    "        dones = torch.Tensor(dones).unsqueeze(1)\n",
    "        rewards = torch.Tensor(rewards).unsqueeze(1)\n",
    "        actions = torch.Tensor(actions)\n",
    "        states = torch.Tensor(states)\n",
    "        next_value = rollout[i + 1][1]\n",
    "        \n",
    "        # V(s) = r + γ * V(s')\n",
    "        returns = rewards + gamma * dones * returns # this is the future rewards\n",
    "        \n",
    "        # L = r + γ*V(s') - V(s)\n",
    "        td_error = rewards + gamma * dones * next_value.detach() - value.detach()\n",
    "        \n",
    "        advantages = advantages * tau * gamma * dones + td_error\n",
    "        processed_rollout[i] = [states, actions, log_probs, returns, advantages]\n",
    "\n",
    "    states, actions, log_probs_old, returns, advantages = map(lambda x: torch.cat(x, dim=0), zip(*processed_rollout))\n",
    "    advantages = (advantages - advantages.mean()) / advantages.std()\n",
    "    return states, actions, log_probs_old, returns, advantages\n",
    "\n",
    "\n",
    "def train(policy, optimizer, env, timer,\n",
    "          episodes=500,\n",
    "          epsilon=0.1,\n",
    "          beta=0.01,\n",
    "          tmax=320,\n",
    "          SGD_epoch=4,\n",
    "          run_name=\"testing\"):\n",
    "\n",
    "    mean_rewards = []\n",
    "    for e in range(episodes):\n",
    "\n",
    "        # collect trajectories\n",
    "        actions, values, log_probs_old, states, rewards, dones, returns = collect_single_trajectory(env, policy, tmax=tmax)\n",
    "        \n",
    "        rollout = zip(states, values, actions, log_probs_old, rewards, dones)\n",
    "        states, actions, log_probs_old, returns, advantages = calculate_advantages(rollout, returns,  len(env_info.agents), gamma=0.99)\n",
    "        \n",
    "        total_rewards = np.sum(rewards, axis=0)\n",
    "        \n",
    "        # gradient ascent step\n",
    "        for _ in range(SGD_epoch): # NOTE: THIS WILL UPDATE THE POLICY SEVERAL TIMES ON THE SAME TRAJECTORY. This is possible due to the new policy and old policy ratio\n",
    "\n",
    "            # uncomment to utilize your own clipped function!\n",
    "            policy_loss, value_loss = -clipped_surrogate_lucas(policy, states, actions, log_probs_old, rewards, epsilon=epsilon, beta=beta)\n",
    "\n",
    "    #         L = -pong_utils.clipped_surrogate(policy, old_probs, states, actions, rewards,\n",
    "    #                                           epsilon=epsilon, beta=beta)\n",
    "            optimizer.zero_grad()\n",
    "            (policy_loss + value_loss).backward()\n",
    "            optimizer.step()\n",
    "            del policy_loss\n",
    "            del value_loss\n",
    "\n",
    "        # the clipping parameter reduces as time goes on\n",
    "        epsilon*=.999\n",
    "\n",
    "        # the regulation term also reduces\n",
    "        # this reduces exploration in later runs\n",
    "        beta*=.995\n",
    "\n",
    "        # get the average reward of the parallel environments\n",
    "        mean_rewards.append(np.mean(total_rewards))\n",
    "\n",
    "        # display some progress every 20 iterations\n",
    "        if (e+1)%20 ==0 :\n",
    "            print(\"Episode: {0:d}, score: {1:f}\".format(e+1,np.mean(total_rewards)))\n",
    "            print(total_rewards)\n",
    "\n",
    "        # update progress widget bar\n",
    "        timer.update(e+1)\n",
    "\n",
    "    timer.finish()\n",
    "    torch.save(policy, f\"PPO_{run_name}.policy\")\n",
    "    return 1"
   ]
  },
  {
   "cell_type": "code",
   "execution_count": 6,
   "metadata": {},
   "outputs": [
    {
     "name": "stderr",
     "output_type": "stream",
     "text": [
      "INFO:unityagents:\n",
      "'Academy' started successfully!\n",
      "Unity Academy name: Academy\n",
      "        Number of Brains: 1\n",
      "        Number of External Brains : 1\n",
      "        Lesson number : 0\n",
      "        Reset Parameters :\n",
      "\t\tgoal_speed -> 1.0\n",
      "\t\tgoal_size -> 5.0\n",
      "Unity brain name: ReacherBrain\n",
      "        Number of Visual Observations (per agent): 0\n",
      "        Vector Observation space type: continuous\n",
      "        Vector Observation space size (per agent): 33\n",
      "        Number of stacked Vector Observation: 1\n",
      "        Vector Action space type: continuous\n",
      "        Vector Action space size (per agent): 4\n",
      "        Vector Action descriptions: , , , \n"
     ]
    }
   ],
   "source": [
    "from unityagents import UnityEnvironment\n",
    "import numpy as np\n",
    "env = UnityEnvironment(file_name='../unity_ml_envs/Reacher_Windows_x86_64/Reacher')"
   ]
  },
  {
   "cell_type": "code",
   "execution_count": 7,
   "metadata": {},
   "outputs": [
    {
     "name": "stderr",
     "output_type": "stream",
     "text": [
      "training loop:   0% |                                          | ETA:  --:--:--\r"
     ]
    }
   ],
   "source": [
    "import numpy as np\n",
    "\n",
    "# Optimizer\n",
    "# we use the adam optimizer with learning rate 2e-4\n",
    "import torch.optim as optim\n",
    "optimizer = optim.Adam(policy.parameters(), lr=1e-4)\n",
    "\n",
    "# training loop max iterations\n",
    "episode = 500\n",
    "\n",
    "# widget bar to display progress\n",
    "import progressbar as pb\n",
    "widget = ['training loop: ', pb.Percentage(), ' ', \n",
    "          pb.Bar(), ' ', pb.ETA() ]\n",
    "timer = pb.ProgressBar(widgets=widget, maxval=episode).start()\n",
    "\n",
    "discount_rate = .99\n",
    "epsilon = 0.1\n",
    "beta = .01\n",
    "tmax = 320\n",
    "SGD_epoch = 4"
   ]
  },
  {
   "cell_type": "code",
   "execution_count": 57,
   "metadata": {},
   "outputs": [
    {
     "name": "stdout",
     "output_type": "stream",
     "text": [
      "Action size: 4. State size: (1, 33)\n",
      "Number of agents:  1\n",
      "Total score (averaged over agents) this episode: 0.06999999843537807\n",
      "New item: states\n",
      "Type: <class 'list'>\n",
      "Length: 320\n",
      "('First element: tensor([[ 0.0000e+00, -4.0000e+00,  0.0000e+00,  1.0000e+00, '\n",
      " '-0.0000e+00,\\n'\n",
      " '         -0.0000e+00, -4.3711e-08,  0.0000e+00,  0.0000e+00,  0.0000e+00,\\n'\n",
      " '          0.0000e+00,  0.0000e+00,  0.0000e+00,  0.0000e+00, -1.0000e+01,\\n'\n",
      " '          0.0000e+00,  1.0000e+00, -0.0000e+00, -0.0000e+00, -4.3711e-08,\\n'\n",
      " '          0.0000e+00,  0.0000e+00,  0.0000e+00,  0.0000e+00,  0.0000e+00,\\n'\n",
      " '          0.0000e+00,  7.9562e+00, -1.0000e+00, -8.3623e-01,  0.0000e+00,\\n'\n",
      " '          1.0000e+00,  0.0000e+00, -7.1473e-01]])')\n",
      "('Last element: tensor([[-6.3725e-01, -1.9984e+00,  3.4343e+00,  8.6529e-01, '\n",
      " '-6.9230e-02,\\n'\n",
      " '          3.8982e-02,  4.9494e-01, -3.9040e+00, -1.0941e+00, -7.6801e-01,\\n'\n",
      " '         -5.3445e+00,  1.3186e+01,  8.3824e+00, -1.5887e+00, -4.3710e+00,\\n'\n",
      " '          8.8436e+00, -8.0175e-01,  7.5038e-02, -3.2086e-02, -5.9206e-01,\\n'\n",
      " '         -3.9831e+00, -1.5893e-01, -4.1159e-01, -1.0639e+01,  3.9693e+01,\\n'\n",
      " '          2.0938e+01, -7.9564e+00, -1.0000e+00, -8.3439e-01,  0.0000e+00,\\n'\n",
      " '          1.0000e+00,  0.0000e+00, -7.1473e-01]])')\n",
      "'First element shape: torch.Size([1, 33])'\n",
      "\n",
      "New item: actions\n",
      "Type: <class 'list'>\n",
      "Length: 320\n",
      "'First element: [[-0.32473946]\\n [-0.12004882]\\n [-0.30414587]\\n [-0.03289394]]'\n",
      "'Last element: [[-0.52136934]\\n [-0.3486693 ]\\n [-0.7004319 ]\\n [-0.58271587]]'\n",
      "'First element shape: (4, 1)'\n",
      "\n",
      "New item: rewards\n",
      "Type: <class 'list'>\n",
      "Length: 320\n",
      "'First element: [0.0]'\n",
      "'Last element: [0.0]'\n",
      "AttributeError(\"'list' object has no attribute 'shape'\",)\n",
      "\n",
      "New item: future_rewards\n",
      "Type: <class 'list'>\n",
      "Length: 320\n",
      "'First element: [0.04388699]'\n",
      "'Last element: [0.]'\n",
      "'First element shape: (1,)'\n",
      "\n",
      "New item: Future rewards after normalizing\n",
      "Type: <class 'torch.Tensor'>\n",
      "Length: 320\n",
      "'First element: tensor([nan], grad_fn=<SelectBackward>)'\n",
      "'Last element: tensor([nan], grad_fn=<SelectBackward>)'\n",
      "Shape: torch.Size([320, 1])\n",
      "'First element shape: torch.Size([1])'\n",
      "\n"
     ]
    },
    {
     "ename": "RuntimeError",
     "evalue": "element 0 of tensors does not require grad and does not have a grad_fn",
     "output_type": "error",
     "traceback": [
      "\u001b[1;31m---------------------------------------------------------------------------\u001b[0m",
      "\u001b[1;31mRuntimeError\u001b[0m                              Traceback (most recent call last)",
      "\u001b[1;32m<ipython-input-57-e40319a5cad8>\u001b[0m in \u001b[0;36m<module>\u001b[1;34m\u001b[0m\n\u001b[0;32m      8\u001b[0m       \u001b[0mtmax\u001b[0m\u001b[1;33m=\u001b[0m\u001b[0mtmax\u001b[0m\u001b[1;33m,\u001b[0m\u001b[1;33m\u001b[0m\u001b[1;33m\u001b[0m\u001b[0m\n\u001b[0;32m      9\u001b[0m       \u001b[0mSGD_epoch\u001b[0m\u001b[1;33m=\u001b[0m\u001b[0mSGD_epoch\u001b[0m\u001b[1;33m,\u001b[0m\u001b[1;33m\u001b[0m\u001b[1;33m\u001b[0m\u001b[0m\n\u001b[1;32m---> 10\u001b[1;33m       run_name=\"testing\")\n\u001b[0m",
      "\u001b[1;32m<ipython-input-54-510cadf70403>\u001b[0m in \u001b[0;36mtrain\u001b[1;34m(policy, optimizer, env, timer, episodes, epsilon, beta, tmax, SGD_epoch, run_name)\u001b[0m\n\u001b[0;32m     24\u001b[0m     \u001b[1;31m#                                           epsilon=epsilon, beta=beta)\u001b[0m\u001b[1;33m\u001b[0m\u001b[1;33m\u001b[0m\u001b[1;33m\u001b[0m\u001b[0m\n\u001b[0;32m     25\u001b[0m             \u001b[0moptimizer\u001b[0m\u001b[1;33m.\u001b[0m\u001b[0mzero_grad\u001b[0m\u001b[1;33m(\u001b[0m\u001b[1;33m)\u001b[0m\u001b[1;33m\u001b[0m\u001b[1;33m\u001b[0m\u001b[0m\n\u001b[1;32m---> 26\u001b[1;33m             \u001b[0mL\u001b[0m\u001b[1;33m.\u001b[0m\u001b[0mbackward\u001b[0m\u001b[1;33m(\u001b[0m\u001b[1;33m)\u001b[0m\u001b[1;33m\u001b[0m\u001b[1;33m\u001b[0m\u001b[0m\n\u001b[0m\u001b[0;32m     27\u001b[0m             \u001b[0moptimizer\u001b[0m\u001b[1;33m.\u001b[0m\u001b[0mstep\u001b[0m\u001b[1;33m(\u001b[0m\u001b[1;33m)\u001b[0m\u001b[1;33m\u001b[0m\u001b[1;33m\u001b[0m\u001b[0m\n\u001b[0;32m     28\u001b[0m             \u001b[1;32mdel\u001b[0m \u001b[0mL\u001b[0m\u001b[1;33m\u001b[0m\u001b[1;33m\u001b[0m\u001b[0m\n",
      "\u001b[1;32mc:\\Users\\lucas\\anaconda3\\envs\\drlnd\\lib\\site-packages\\torch\\tensor.py\u001b[0m in \u001b[0;36mbackward\u001b[1;34m(self, gradient, retain_graph, create_graph)\u001b[0m\n\u001b[0;32m    193\u001b[0m                 \u001b[0mproducts\u001b[0m\u001b[1;33m.\u001b[0m \u001b[0mDefaults\u001b[0m \u001b[0mto\u001b[0m\u001b[0;31m \u001b[0m\u001b[0;31m`\u001b[0m\u001b[0;31m`\u001b[0m\u001b[1;32mFalse\u001b[0m\u001b[0;31m`\u001b[0m\u001b[0;31m`\u001b[0m\u001b[1;33m.\u001b[0m\u001b[1;33m\u001b[0m\u001b[1;33m\u001b[0m\u001b[0m\n\u001b[0;32m    194\u001b[0m         \"\"\"\n\u001b[1;32m--> 195\u001b[1;33m         \u001b[0mtorch\u001b[0m\u001b[1;33m.\u001b[0m\u001b[0mautograd\u001b[0m\u001b[1;33m.\u001b[0m\u001b[0mbackward\u001b[0m\u001b[1;33m(\u001b[0m\u001b[0mself\u001b[0m\u001b[1;33m,\u001b[0m \u001b[0mgradient\u001b[0m\u001b[1;33m,\u001b[0m \u001b[0mretain_graph\u001b[0m\u001b[1;33m,\u001b[0m \u001b[0mcreate_graph\u001b[0m\u001b[1;33m)\u001b[0m\u001b[1;33m\u001b[0m\u001b[1;33m\u001b[0m\u001b[0m\n\u001b[0m\u001b[0;32m    196\u001b[0m \u001b[1;33m\u001b[0m\u001b[0m\n\u001b[0;32m    197\u001b[0m     \u001b[1;32mdef\u001b[0m \u001b[0mregister_hook\u001b[0m\u001b[1;33m(\u001b[0m\u001b[0mself\u001b[0m\u001b[1;33m,\u001b[0m \u001b[0mhook\u001b[0m\u001b[1;33m)\u001b[0m\u001b[1;33m:\u001b[0m\u001b[1;33m\u001b[0m\u001b[1;33m\u001b[0m\u001b[0m\n",
      "\u001b[1;32mc:\\Users\\lucas\\anaconda3\\envs\\drlnd\\lib\\site-packages\\torch\\autograd\\__init__.py\u001b[0m in \u001b[0;36mbackward\u001b[1;34m(tensors, grad_tensors, retain_graph, create_graph, grad_variables)\u001b[0m\n\u001b[0;32m     97\u001b[0m     Variable._execution_engine.run_backward(\n\u001b[0;32m     98\u001b[0m         \u001b[0mtensors\u001b[0m\u001b[1;33m,\u001b[0m \u001b[0mgrad_tensors\u001b[0m\u001b[1;33m,\u001b[0m \u001b[0mretain_graph\u001b[0m\u001b[1;33m,\u001b[0m \u001b[0mcreate_graph\u001b[0m\u001b[1;33m,\u001b[0m\u001b[1;33m\u001b[0m\u001b[1;33m\u001b[0m\u001b[0m\n\u001b[1;32m---> 99\u001b[1;33m         allow_unreachable=True)  # allow_unreachable flag\n\u001b[0m\u001b[0;32m    100\u001b[0m \u001b[1;33m\u001b[0m\u001b[0m\n\u001b[0;32m    101\u001b[0m \u001b[1;33m\u001b[0m\u001b[0m\n",
      "\u001b[1;31mRuntimeError\u001b[0m: element 0 of tensors does not require grad and does not have a grad_fn"
     ]
    }
   ],
   "source": [
    "train(policy,\n",
    "      optimizer,\n",
    "      env,\n",
    "      timer,\n",
    "      episodes=episode,\n",
    "      epsilon=epsilon,\n",
    "      beta=beta,\n",
    "      tmax=tmax,\n",
    "      SGD_epoch=SGD_epoch,\n",
    "      run_name=\"testing\")"
   ]
  }
 ],
 "metadata": {
  "kernelspec": {
   "display_name": "drlnd",
   "language": "python",
   "name": "python3"
  },
  "language_info": {
   "codemirror_mode": {
    "name": "ipython",
    "version": 3
   },
   "file_extension": ".py",
   "mimetype": "text/x-python",
   "name": "python",
   "nbconvert_exporter": "python",
   "pygments_lexer": "ipython3",
   "version": "3.6.13"
  }
 },
 "nbformat": 4,
 "nbformat_minor": 2
}
